{
 "cells": [
  {
   "cell_type": "markdown",
   "metadata": {
    "id": "wNRNTbrsc53d"
   },
   "source": [
    "# If - elif - else statement"
   ]
  },
  {
   "cell_type": "code",
   "execution_count": null,
   "metadata": {
    "id": "MiPfTnBycxNa"
   },
   "outputs": [],
   "source": [
    "W. A P. which takes one number from 0 to 9 from the user and prints it in the word. And if the word is not from 0 to 9 then\n",
    "it should print that number is outside of the range and program should exit.\n",
    "For exapmple:- \n",
    "input = 1\n",
    "output = one\n"
   ]
  },
  {
   "cell_type": "code",
   "execution_count": 2,
   "metadata": {},
   "outputs": [],
   "source": [
    "# num_ = list(range(0, 10))\n",
    "\n",
    "# for i in num_ : \n",
    "#     print(i)"
   ]
  },
  {
   "cell_type": "code",
   "execution_count": null,
   "metadata": {
    "id": "vEMNOv9zdA39"
   },
   "outputs": [],
   "source": [
    "W. A P. to implement calculator but the operation to be done and two numbers will be taken as input from user:-\n",
    "Operation console should show below:-\n",
    "    Please select any one operation from below:-\n",
    "        * To add enter 1\n",
    "        * to subtract enter 2\n",
    "        * To multiply enter 3\n",
    "        * To divide enter 4\n",
    "        * To divide and find quotient enter 5\n",
    "        * To divide and find remainder enter 6\n",
    "        * To divide and find num1 to the power of num2 enter 7\n",
    "        * To Come out of the program enter 8\n",
    "\n",
    "\n",
    "\n"
   ]
  },
  {
   "cell_type": "code",
   "execution_count": null,
   "metadata": {
    "id": "1e2gwYLqdC1s"
   },
   "outputs": [],
   "source": [
    "W A P to check whether a year entered by user is an leap year or not?\n",
    "Check with below input:-\n",
    "    leap year:- 2012, 1968, 2004, 1200, 1600,2400\n",
    "    Non-lear year:- 1971, 2006, 1700,1800,1900\n",
    "    \n"
   ]
  },
  {
   "cell_type": "code",
   "execution_count": 3,
   "metadata": {},
   "outputs": [
    {
     "name": "stdout",
     "output_type": "stream",
     "text": [
      "Leap Year\n"
     ]
    }
   ],
   "source": [
    "year = 2012\n",
    "\n",
    "if (year % 400) == 0 : \n",
    "    print(\"Leap Year\")\n",
    "elif (year % 100) == 0 : \n",
    "    print(\"Not Leap Year\")\n",
    "elif (year % 4) == 0 : \n",
    "    print(\"Leap Year\")\n",
    "else : \n",
    "    print(\"Not Leap Year\")\n",
    "    \n"
   ]
  },
  {
   "cell_type": "code",
   "execution_count": null,
   "metadata": {},
   "outputs": [],
   "source": []
  },
  {
   "cell_type": "code",
   "execution_count": null,
   "metadata": {
    "id": "_tpXv1EtdEre"
   },
   "outputs": [],
   "source": [
    "W A P which takes one number from the user and checks whether it is an even or odd number?, If it even then prints number is \n",
    "even number else prints that number is odd number.\n",
    "\n"
   ]
  },
  {
   "cell_type": "code",
   "execution_count": null,
   "metadata": {
    "id": "Q1HumymCdG6i"
   },
   "outputs": [],
   "source": [
    "W A P which takes two numbers from the user and prints below output:-\n",
    "    1. num1 is greater than num2 if num1 is greater than num2\n",
    "    2. num1 is smaller than num2 if num1 is smaller than num2\n",
    "    3. num1 is equal to num2 if num1 and num2 are equal\n",
    "\n",
    "Note:- 1. Do this problem using if - else \n",
    "      2. Do this using ternary operator\n",
    "\n"
   ]
  },
  {
   "cell_type": "code",
   "execution_count": null,
   "metadata": {},
   "outputs": [],
   "source": [
    "# Ternary Operator : \n",
    "# excel if : if(expression, TRUE, FALSE)\n",
    "\n",
    "# outputOfIF if expression else outputOfELSE\n",
    "# outputOfIF if expression else (outputOfIF if expression else (outputOfIF if expression else outputOfELSE) )\n"
   ]
  },
  {
   "cell_type": "code",
   "execution_count": 10,
   "metadata": {},
   "outputs": [
    {
     "name": "stdout",
     "output_type": "stream",
     "text": [
      "num1 is smaller than num2\n",
      "num1 is equal to num2\n"
     ]
    }
   ],
   "source": [
    "num1 = 50\n",
    "num2 = 50\n",
    "\n",
    "\n",
    "print(\"num1 greater than num2\" if num1 > num2 else \"num1 is smaller than num2\")\n",
    "print(\"num1 greater than num2\" if num1 > num2 else \"num1 is smaller than num2\" if num1 < num2 else 'num1 is equal to num2')\n"
   ]
  },
  {
   "cell_type": "code",
   "execution_count": null,
   "metadata": {},
   "outputs": [],
   "source": []
  },
  {
   "cell_type": "code",
   "execution_count": null,
   "metadata": {
    "id": "LR6TVB-DdOPf"
   },
   "outputs": [],
   "source": [
    "W A P which takes three numbers from the user and prints below output:-\n",
    "    1. num1 is greater than num2 and num3 if num1 is greater than num2 and num3\n",
    "    2. num2 is greater than num1 and num3 if num2 is greater than num1 and num3\n",
    "    3. num3 is greater than num1 and num2 if num3 is greater than num1 and num2\n",
    "\n",
    "Note:- 1. Do this problem using if - elif - else \n",
    "      2. Do this using ternary operator\n",
    "\n",
    "a = a if a>b else b\n",
    "\n"
   ]
  },
  {
   "cell_type": "code",
   "execution_count": null,
   "metadata": {},
   "outputs": [],
   "source": [
    "num1 = int(input(\"enter 1st number \"))\n",
    "num2 = int(input(\"enter 2nd number\"))\n",
    "\n",
    "\n",
    "# print((num1,\"- num1 is greater than num2\") if (num1>num2) else (num2,\" - num2 is greater than num1 \") (num1,\"- num1 is smaller than num2\") if (num1<num2) else (num2,\" - num2 is smaller than num1 \"))\n"
   ]
  },
  {
   "cell_type": "code",
   "execution_count": null,
   "metadata": {},
   "outputs": [],
   "source": []
  },
  {
   "cell_type": "markdown",
   "metadata": {
    "id": "IoOLQMUGdSox"
   },
   "source": [
    "# Loops - for loop, while loop"
   ]
  },
  {
   "cell_type": "code",
   "execution_count": 3,
   "metadata": {
    "id": "9K23Uld8dQfA"
   },
   "outputs": [
    {
     "name": "stdout",
     "output_type": "stream",
     "text": [
      "55\n"
     ]
    }
   ],
   "source": [
    "# Write a Python program to find the length of the my_str using loop:-\n",
    "\n",
    "# Input:- 'Write a Python program to find the length of the my_str'\n",
    "# Output:- 55\n",
    "\n",
    "\n",
    "my_str = 'Write a Python program to find the length of the my_str'\n",
    "\n",
    "c = 0\n",
    "\n",
    "for s in my_str : \n",
    "    c += 1\n",
    "\n",
    "print(c)"
   ]
  },
  {
   "cell_type": "code",
   "execution_count": null,
   "metadata": {
    "id": "bp6AcqTsdYxy"
   },
   "outputs": [],
   "source": [
    "Write a Python program to find the total number of times letter 'p' is appeared in the below string using loop:-\n",
    "    \n",
    "Input:- 'peter piper picked a peck of pickled peppers.\\n'\n",
    "Output:- 9\n",
    "\n"
   ]
  },
  {
   "cell_type": "code",
   "execution_count": 6,
   "metadata": {},
   "outputs": [
    {
     "name": "stdout",
     "output_type": "stream",
     "text": [
      "9\n"
     ]
    }
   ],
   "source": [
    "my_str = 'peter piper picked a peck of pickled peppers.\\n'\n",
    "\n",
    "c = 0\n",
    "\n",
    "for s in my_str : \n",
    "    if s == \"p\" : \n",
    "        c += 1\n",
    "    else : \n",
    "        pass\n",
    "\n",
    "print(c)"
   ]
  },
  {
   "cell_type": "code",
   "execution_count": null,
   "metadata": {
    "id": "xvxSBhTJdav1"
   },
   "outputs": [],
   "source": [
    "Write a Python Program, to print all the indexes of all occurences of letter 'p' appeared in the string using loop:-\n",
    "    \n",
    "Input:- 'peter piper picked a peck of pickled peppers.'\n",
    "Output:- \n",
    "0\n",
    "6\n",
    "8\n",
    "12\n",
    "21\n",
    "29\n",
    "37\n",
    "39\n",
    "40"
   ]
  },
  {
   "cell_type": "code",
   "execution_count": 7,
   "metadata": {},
   "outputs": [
    {
     "name": "stdout",
     "output_type": "stream",
     "text": [
      "0\n",
      "6\n",
      "8\n",
      "12\n",
      "21\n",
      "29\n",
      "37\n",
      "39\n",
      "40\n"
     ]
    }
   ],
   "source": [
    "my_str = 'peter piper picked a peck of pickled peppers.\\n'\n",
    "\n",
    "c = 0\n",
    "\n",
    "for s in range(0, len(my_str)) : \n",
    "    if my_str[s] == \"p\" : \n",
    "        print(s)"
   ]
  },
  {
   "cell_type": "code",
   "execution_count": null,
   "metadata": {
    "id": "79L_feMadbmw"
   },
   "outputs": [],
   "source": [
    "Write a python program to find below output using loop:-\n",
    "\n",
    "Input:- 'peter piper picked a peck of pickled peppers.'\n",
    "Output:- ['peter', 'piper', 'picked', 'a', 'peck', 'of', 'pickled', 'peppers']"
   ]
  },
  {
   "cell_type": "code",
   "execution_count": null,
   "metadata": {},
   "outputs": [],
   "source": [
    "# ** LIST"
   ]
  },
  {
   "cell_type": "code",
   "execution_count": null,
   "metadata": {
    "id": "vzs5AJ53deVS"
   },
   "outputs": [],
   "source": [
    "Write a python program to find below output using loop:-\n",
    "\n",
    "Input:- 'peter piper picked a peck of pickled peppers.'\n",
    "Output:- 'peppers pickled of peck a picked piper peter'\n",
    "\n"
   ]
  },
  {
   "cell_type": "code",
   "execution_count": 10,
   "metadata": {},
   "outputs": [
    {
     "name": "stdout",
     "output_type": "stream",
     "text": [
      "peppers. pickled of peck a picked piper peter \n"
     ]
    }
   ],
   "source": [
    "# Avis Patel\n",
    "a = 'peter piper picked a peck of pickled peppers.'\n",
    "b = []\n",
    "c = ''\n",
    "for i in a:\n",
    "  if i != \" \":\n",
    "    c += i\n",
    "    \n",
    "  else:\n",
    "    b.append(c)\n",
    "    c = ''\n",
    "b.append(c)\n",
    "c = ''\n",
    "for i in b[::-1]:\n",
    "  c += i + \" \"\n",
    "print(c)\n"
   ]
  },
  {
   "cell_type": "code",
   "execution_count": 13,
   "metadata": {},
   "outputs": [
    {
     "name": "stdout",
     "output_type": "stream",
     "text": [
      "['peter', 'piper', 'picked', 'a', 'peck', 'of', 'pickled', 'peppers']\n"
     ]
    },
    {
     "data": {
      "text/plain": [
       "'peppers pickled of peck a picked piper peter'"
      ]
     },
     "execution_count": 13,
     "metadata": {},
     "output_type": "execute_result"
    }
   ],
   "source": [
    "Input='peter piper picked a peck of pickled peppers'\n",
    "a=Input.split()\n",
    "b=[]\n",
    "print(a)\n",
    "for i in range(-1,-(len(a)+1),-1):\n",
    "    b.append(a[i])\n",
    "\" \".join(b)\n"
   ]
  },
  {
   "cell_type": "code",
   "execution_count": 8,
   "metadata": {},
   "outputs": [
    {
     "ename": "TypeError",
     "evalue": "'type' object is not subscriptable",
     "output_type": "error",
     "traceback": [
      "\u001b[1;31m---------------------------------------------------------------------------\u001b[0m",
      "\u001b[1;31mTypeError\u001b[0m                                 Traceback (most recent call last)",
      "\u001b[1;32m<ipython-input-8-74399af0aff4>\u001b[0m in \u001b[0;36m<module>\u001b[1;34m\u001b[0m\n\u001b[0;32m      9\u001b[0m     \u001b[0mx\u001b[0m\u001b[1;33m-=\u001b[0m\u001b[1;36m1\u001b[0m\u001b[1;33m\u001b[0m\u001b[1;33m\u001b[0m\u001b[0m\n\u001b[0;32m     10\u001b[0m \u001b[1;33m\u001b[0m\u001b[0m\n\u001b[1;32m---> 11\u001b[1;33m \u001b[0mstr2\u001b[0m\u001b[1;33m=\u001b[0m\u001b[0mstr2\u001b[0m\u001b[1;33m+\u001b[0m\u001b[1;34m\" \"\u001b[0m\u001b[1;33m+\u001b[0m\u001b[0mstr\u001b[0m\u001b[1;33m[\u001b[0m\u001b[1;36m0\u001b[0m\u001b[1;33m:\u001b[0m\u001b[0mb\u001b[0m\u001b[1;33m]\u001b[0m\u001b[1;33m\u001b[0m\u001b[1;33m\u001b[0m\u001b[0m\n\u001b[0m\u001b[0;32m     12\u001b[0m \u001b[0mprint\u001b[0m\u001b[1;33m(\u001b[0m\u001b[0mstr2\u001b[0m\u001b[1;33m)\u001b[0m\u001b[1;33m\u001b[0m\u001b[1;33m\u001b[0m\u001b[0m\n",
      "\u001b[1;31mTypeError\u001b[0m: 'type' object is not subscriptable"
     ]
    }
   ],
   "source": [
    "str1='peter piper picked a peck of pickled peppers.'\n",
    "b=-1\n",
    "x=len(str1)-1\n",
    "str2=\"\"\n",
    "while x>=0:\n",
    "    if str1[x]==\" \":\n",
    "        str2 = str2 + str1[x:b]\n",
    "        b=x\n",
    "    x-=1\n",
    "\n",
    "str2=str2+\" \"+str[0:b]\n",
    "print(str2)\n"
   ]
  },
  {
   "cell_type": "code",
   "execution_count": null,
   "metadata": {
    "id": "i-HP7DrCdhwS"
   },
   "outputs": [],
   "source": [
    "Write a python program to find below output using loop:-\n",
    "\n",
    "Input:- 'peter piper picked a peck of pickled peppers.'\n",
    "Output:- '.sreppep delkcip fo kcep a dekcip repip retep'\n",
    "\n"
   ]
  },
  {
   "cell_type": "code",
   "execution_count": 15,
   "metadata": {},
   "outputs": [
    {
     "name": "stdout",
     "output_type": "stream",
     "text": [
      ".sreppep delkcip fo kcep a dekcip repip retep\n"
     ]
    }
   ],
   "source": [
    "# Abhinav Pathak\n",
    "\n",
    "Input='peter piper picked a peck of pickled peppers.'\n",
    "b=''\n",
    "for i in range(-1,-(len(Input)+1),-1):\n",
    "    b+=Input[i]\n",
    "print(b)\n"
   ]
  },
  {
   "cell_type": "code",
   "execution_count": null,
   "metadata": {
    "id": "3rt6p0ytdkq0"
   },
   "outputs": [],
   "source": [
    "Write a python program to find below output using loop:-\n",
    "\n",
    "Input:- 'peter piper picked a peck of pickled peppers.'\n",
    "Output:- 'retep repip dekcip a kcep fo delkcip sreppep'"
   ]
  },
  {
   "cell_type": "code",
   "execution_count": 17,
   "metadata": {},
   "outputs": [
    {
     "name": "stdout",
     "output_type": "stream",
     "text": [
      "['peter', 'piper', 'picked', 'a', 'peck', 'of', 'pickled', 'peppers']\n"
     ]
    }
   ],
   "source": [
    "Input = 'peter piper picked a peck of pickled peppers.'\n",
    "Input = Input.replace(\".\", \"\")\n",
    "res = Input.split(\" \")\n",
    "print(res)\n",
    "\n",
    "newList = [] \n",
    "# ** List\n",
    "\n",
    "\n"
   ]
  },
  {
   "cell_type": "code",
   "execution_count": null,
   "metadata": {
    "id": "HdlAWgT2dnKO"
   },
   "outputs": [],
   "source": [
    "Write a python program to find below output using loop:-\n",
    "\n",
    "Input:- 'peter piper picked a peck of pickled peppers.'\n",
    "Output:- 'Peter Piper Picked A Peck Of Pickled Peppers'"
   ]
  },
  {
   "cell_type": "code",
   "execution_count": 18,
   "metadata": {},
   "outputs": [
    {
     "name": "stdout",
     "output_type": "stream",
     "text": [
      "['peter', 'piper', 'picked', 'a', 'peck', 'of', 'pickled', 'peppers']\n"
     ]
    }
   ],
   "source": [
    "Input = 'peter piper picked a peck of pickled peppers.'\n",
    "Input = Input.replace(\".\", \"\")\n",
    "res = Input.split(\" \")\n",
    "print(res)\n",
    "\n",
    "newList = [] \n",
    "# ** List\n"
   ]
  },
  {
   "cell_type": "code",
   "execution_count": null,
   "metadata": {},
   "outputs": [],
   "source": []
  },
  {
   "cell_type": "code",
   "execution_count": null,
   "metadata": {
    "id": "OthUuacodrNl"
   },
   "outputs": [],
   "source": [
    "Write a python program to find below output using loop:-\n",
    "\n",
    "Input:- 'Peter Piper Picked A Peck Of Pickled Peppers.'\n",
    "Output:- 'Peter piper picked a peck of pickled peppers'"
   ]
  },
  {
   "cell_type": "code",
   "execution_count": 20,
   "metadata": {},
   "outputs": [
    {
     "data": {
      "text/plain": [
       "'Peter piper picked a peck of pickled peppers.'"
      ]
     },
     "execution_count": 20,
     "metadata": {},
     "output_type": "execute_result"
    }
   ],
   "source": [
    "Input =  'Peter Piper Picked A Peck Of Pickled Peppers.'\n",
    "\n",
    "newStr = Input[0].upper()\n",
    "for i in range(1, len(Input)) : \n",
    "    newStr += Input[i].lower()\n",
    "\n",
    "newStr"
   ]
  },
  {
   "cell_type": "code",
   "execution_count": null,
   "metadata": {
    "colab": {
     "base_uri": "https://localhost:8080/",
     "height": 34
    },
    "id": "scmDJE-ldsI9",
    "outputId": "4b1d1979-9f4a-4bc6-c505-b88b1bbd4d5d"
   },
   "outputs": [
    {
     "name": "stdout",
     "output_type": "stream",
     "text": [
      "29\n"
     ]
    }
   ],
   "source": [
    "Write a python program to implement index method using loop. If sub_str is found in my_str then it will print the index\n",
    "of first occurrence of first character of matching string in my_str:-\n",
    "\n",
    "Input:- my_str = 'Peter Piper Picked A Peck Of Pickled Peppers.', sub_str = 'Pickl'\n",
    "Output:- 29\n",
    "\n"
   ]
  },
  {
   "cell_type": "code",
   "execution_count": 28,
   "metadata": {},
   "outputs": [
    {
     "name": "stdout",
     "output_type": "stream",
     "text": [
      "-1\n"
     ]
    }
   ],
   "source": [
    "my_str = 'Peter Piper Picked A Peck Of Pickled Peppers Pickl.'\n",
    "sub_str = 'ter Pip'\n",
    "sub_str = 'zzz'\n",
    "\n",
    "\n",
    "for i in my_str:\n",
    "    index = my_str.find(sub_str)\n",
    "    if index : \n",
    "        print(index)\n",
    "        break\n",
    "    else : \n",
    "        pass\n",
    "\n",
    "    \n"
   ]
  },
  {
   "cell_type": "code",
   "execution_count": null,
   "metadata": {},
   "outputs": [],
   "source": [
    "my_str = 'Peter Piper Picked A Peck Of Pickled Peppers.'\n",
    "sub_str = 'Pickl'\n",
    "ls = len(sub_str) # 5\n",
    "lm  = len(my_str)\n",
    "\n",
    "for i in range(lm):\n",
    "    if my_str[i:i+ls] == sub_str:\n",
    "        print(i)\n",
    "        break\n",
    "\n",
    "# 0 - 0-5\n",
    "# 1 - 1-6\n",
    "# 2\n",
    "# 3\n",
    "# 4\n",
    "# 5\n"
   ]
  },
  {
   "cell_type": "code",
   "execution_count": null,
   "metadata": {
    "id": "Kq_fwdb_dvYE"
   },
   "outputs": [],
   "source": [
    "Write a python program to implement replace method using loop. If sub_str is found in my_str then it will replace the first \n",
    "occurrence of sub_str with new_str else it will will print sub_str not found:-\n",
    "\n",
    "Input:- my_str = 'Peter Piper Picked A Peck Of Pickled Peppers.', sub_str = 'Peck', new_str = 'Pack'\n",
    "Output:- 'Peter Piper Picked A Pack Of Pickled Peppers.'\n",
    "\n",
    "\n"
   ]
  },
  {
   "cell_type": "code",
   "execution_count": 39,
   "metadata": {},
   "outputs": [
    {
     "name": "stdout",
     "output_type": "stream",
     "text": [
      "['Peter', 'Piper', 'Picked', 'A', 'PeckOf', 'Pickled', 'Peppers.']\n"
     ]
    },
    {
     "data": {
      "text/plain": [
       "'Peter Piper Picked A PeckOf Pickled Peppers.'"
      ]
     },
     "execution_count": 39,
     "metadata": {},
     "output_type": "execute_result"
    }
   ],
   "source": [
    "# Abhinav Pathak\n",
    "\n",
    "my_str='Peter Piper Picked A PeckOf Pickled Peppers.'\n",
    "sub_str ='Peck'\n",
    "new_str = 'Pack'\n",
    "p=my_str.split()\n",
    "q=[]\n",
    "\n",
    "for i in range(len(p)):\n",
    "    if p[i]==sub_str:\n",
    "        q.append(new_str)\n",
    "    else:\n",
    "        q.append(p[i])\n",
    "\n",
    "print(q)\n",
    "\" \".join(q)\n"
   ]
  },
  {
   "cell_type": "code",
   "execution_count": 38,
   "metadata": {},
   "outputs": [
    {
     "name": "stdout",
     "output_type": "stream",
     "text": [
      "21\n",
      "Peter Piper Picked A PackOf Pickled Peppers.\n"
     ]
    }
   ],
   "source": [
    "\n",
    "# Srikanth\n",
    "\n",
    "my_str = 'Peter Piper Picked A PeckOf Pickled Peppers.'\n",
    "sub_str = 'Peck'\n",
    "new_str = 'Pack'\n",
    "x=\"\"\n",
    "ls = len(sub_str)  # 45\n",
    "lm  = len(my_str)  # 4\n",
    "\n",
    "for i in range(lm):\n",
    "    if my_str[i:i+ls] == sub_str:\n",
    "        x=my_str.replace(my_str[i:i+ls],new_str)\n",
    "        print(i)\n",
    "        break\n",
    "\n",
    "if (x==\"\"):\n",
    "    print(\"sub_Str not found\")\n",
    "print(x)\n"
   ]
  },
  {
   "cell_type": "code",
   "execution_count": 32,
   "metadata": {},
   "outputs": [
    {
     "data": {
      "text/plain": [
       "45"
      ]
     },
     "execution_count": 32,
     "metadata": {},
     "output_type": "execute_result"
    }
   ],
   "source": [
    "len(my_str)"
   ]
  },
  {
   "cell_type": "code",
   "execution_count": null,
   "metadata": {},
   "outputs": [],
   "source": []
  },
  {
   "cell_type": "code",
   "execution_count": null,
   "metadata": {},
   "outputs": [],
   "source": []
  },
  {
   "cell_type": "code",
   "execution_count": null,
   "metadata": {
    "id": "4Qes5D0cdyd1"
   },
   "outputs": [],
   "source": [
    "Write a python program to find below output (implements rjust and ljust) using loop:-\n",
    "\n",
    "Input:- 'Peter Piper Picked A Peck Of Pickled Peppers.', sub_str = 'Peck', \n",
    "Output:- '*********************Peck********************'\n",
    "\n",
    "\n",
    "\n"
   ]
  },
  {
   "cell_type": "code",
   "execution_count": 43,
   "metadata": {},
   "outputs": [
    {
     "name": "stdout",
     "output_type": "stream",
     "text": [
      "*********************Pack********************\n"
     ]
    }
   ],
   "source": [
    "my_str = 'Peter Piper Picked A Peck Of Pickled Peppers.' \n",
    "sub_str = 'Peck'\n",
    "new_str = 'Pack'\n",
    "if sub_str in my_str:\n",
    "  i = my_str.index(sub_str)\n",
    "  k = 0\n",
    "  c = ''\n",
    "  while k < len(my_str):\n",
    "    if i == k:\n",
    "      c += new_str\n",
    "      k += len(sub_str)\n",
    "    else:\n",
    "      c += \"*\"\n",
    "      k += 1\n",
    "print(c)"
   ]
  },
  {
   "cell_type": "code",
   "execution_count": 41,
   "metadata": {},
   "outputs": [
    {
     "name": "stdout",
     "output_type": "stream",
     "text": [
      "['Peter', 'Piper', 'Picked', 'A', 'Peck', 'Of', 'Pickled', 'Peppers.']\n",
      "['*****', '*****', '******', '*', 'Peck', '**', '*******', '********']\n",
      "*********************Peck********************\n"
     ]
    }
   ],
   "source": [
    "abc='Peter Piper Picked A Peck Of Pickled Peppers.'\n",
    "sub_str = 'Peck'\n",
    "x=abc.split()\n",
    "print(x)\n",
    "y=[]\n",
    "for i in x:\n",
    "    if i != sub_str:\n",
    "        b=len(i)\n",
    "        a='*'*b\n",
    "        y.append(a)\n",
    "    else:\n",
    "        y.append(i)\n",
    "z=\"*\".join(y)\n",
    "print(y)\n",
    "print(z)\n"
   ]
  },
  {
   "cell_type": "code",
   "execution_count": null,
   "metadata": {},
   "outputs": [],
   "source": []
  },
  {
   "cell_type": "code",
   "execution_count": null,
   "metadata": {
    "id": "DsOrb07Od0lR"
   },
   "outputs": [],
   "source": [
    "Write a python program to find below output using loop:-\n",
    "\n",
    "Input:- 'This is Python class', sep = ' is', \n",
    "Output:- ['This', 'is', 'Python class']\n",
    "\n",
    "\n",
    "    "
   ]
  },
  {
   "cell_type": "code",
   "execution_count": 40,
   "metadata": {
    "id": "jRnBVufmd2Ay"
   },
   "outputs": [
    {
     "name": "stdout",
     "output_type": "stream",
     "text": [
      "['This', 'is', 'Python class']\n"
     ]
    }
   ],
   "source": [
    "\n",
    "a = 'This is Python class'\n",
    "sep = ' is'\n",
    "if sep in a:\n",
    "  b = []\n",
    "  c = ''\n",
    "  k = 0\n",
    "  i = a.index(sep)\n",
    "  while k < len(a):\n",
    "    if k == i:\n",
    "      b.append(c)\n",
    "      b.append(sep.lstrip())\n",
    "      k += len(sep) + 1\n",
    "      c = ''\n",
    "    else:\n",
    "      c += a[k]\n",
    "      k += 1\n",
    "  b.append(c)\n",
    "  print(b)\n",
    "\n"
   ]
  },
  {
   "cell_type": "code",
   "execution_count": null,
   "metadata": {},
   "outputs": [],
   "source": []
  }
 ],
 "metadata": {
  "colab": {
   "name": "Conditional_and_loop_assignment.ipynb",
   "provenance": []
  },
  "kernelspec": {
   "display_name": "Python 3 (ipykernel)",
   "language": "python",
   "name": "python3"
  },
  "language_info": {
   "codemirror_mode": {
    "name": "ipython",
    "version": 3
   },
   "file_extension": ".py",
   "mimetype": "text/x-python",
   "name": "python",
   "nbconvert_exporter": "python",
   "pygments_lexer": "ipython3",
   "version": "3.9.12"
  }
 },
 "nbformat": 4,
 "nbformat_minor": 1
}
